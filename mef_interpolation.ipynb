{
 "cells": [
  {
   "cell_type": "code",
   "execution_count": 26,
   "metadata": {},
   "outputs": [
    {
     "name": "stdout",
     "output_type": "stream",
     "text": [
      "Index(['date', 'simple dispatch'], dtype='object')\n",
      "          date  time         mef\n",
      "0   09/01/2017     0  760.344277\n",
      "1   09/01/2017     1  716.511241\n",
      "2   09/01/2017     2  572.087853\n",
      "3   09/01/2017     3  675.141104\n",
      "4   09/01/2017     4  714.466377\n",
      "5   09/01/2017     5  565.988944\n",
      "6   09/01/2017     6  516.735221\n",
      "7   09/01/2017     7  460.190713\n",
      "8   09/01/2017     8  574.995870\n",
      "9   09/01/2017     9  465.575270\n",
      "10  09/01/2017    10  544.600557\n",
      "11  09/01/2017    11  790.804959\n",
      "12  09/01/2017    12  904.005165\n",
      "13  09/01/2017    13  842.589161\n",
      "14  09/01/2017    14  676.924520\n",
      "15  09/01/2017    15  495.995332\n",
      "16  09/01/2017    16  423.670113\n",
      "17  09/01/2017    17  379.906394\n",
      "18  09/01/2017    18  373.403826\n",
      "19  09/01/2017    19  397.968772\n",
      "20  09/01/2017    20  388.965991\n",
      "21  09/01/2017    21  425.594289\n",
      "22  09/01/2017    22  460.011830\n",
      "23  09/01/2017    23  798.517634\n"
     ]
    },
    {
     "ename": "ValueError",
     "evalue": "x must be increasing if s > 0",
     "output_type": "error",
     "traceback": [
      "\u001b[0;31m---------------------------------------------------------\u001b[0m",
      "\u001b[0;31mValueError\u001b[0m              Traceback (most recent call last)",
      "\u001b[0;32m<ipython-input-26-d83eb2f599de>\u001b[0m in \u001b[0;36m<module>\u001b[0;34m\u001b[0m\n\u001b[1;32m     50\u001b[0m \u001b[0;34m\u001b[0m\u001b[0m\n\u001b[1;32m     51\u001b[0m \u001b[0;32mif\u001b[0m \u001b[0m__name__\u001b[0m\u001b[0;34m==\u001b[0m\u001b[0;34m'__main__'\u001b[0m\u001b[0;34m:\u001b[0m\u001b[0;34m\u001b[0m\u001b[0;34m\u001b[0m\u001b[0m\n\u001b[0;32m---> 52\u001b[0;31m     \u001b[0mmain\u001b[0m\u001b[0;34m(\u001b[0m\u001b[0;34m)\u001b[0m\u001b[0;34m\u001b[0m\u001b[0;34m\u001b[0m\u001b[0m\n\u001b[0m",
      "\u001b[0;32m<ipython-input-26-d83eb2f599de>\u001b[0m in \u001b[0;36mmain\u001b[0;34m()\u001b[0m\n\u001b[1;32m     37\u001b[0m \u001b[0;34m\u001b[0m\u001b[0m\n\u001b[1;32m     38\u001b[0m     \u001b[0mx_i\u001b[0m \u001b[0;34m=\u001b[0m \u001b[0mnp\u001b[0m\u001b[0;34m.\u001b[0m\u001b[0mlinspace\u001b[0m\u001b[0;34m(\u001b[0m\u001b[0;36m0\u001b[0m\u001b[0;34m,\u001b[0m \u001b[0;36m23\u001b[0m\u001b[0;34m,\u001b[0m \u001b[0mnum\u001b[0m\u001b[0;34m=\u001b[0m\u001b[0;36m41\u001b[0m\u001b[0;34m,\u001b[0m \u001b[0mendpoint\u001b[0m\u001b[0;34m=\u001b[0m\u001b[0;32mTrue\u001b[0m\u001b[0;34m)\u001b[0m\u001b[0;34m\u001b[0m\u001b[0;34m\u001b[0m\u001b[0m\n\u001b[0;32m---> 39\u001b[0;31m     \u001b[0mius\u001b[0m \u001b[0;34m=\u001b[0m \u001b[0mInterpolatedUnivariateSpline\u001b[0m\u001b[0;34m(\u001b[0m\u001b[0mday_one_df\u001b[0m\u001b[0;34m[\u001b[0m\u001b[0;34m'time'\u001b[0m\u001b[0;34m]\u001b[0m\u001b[0;34m,\u001b[0m \u001b[0mday_one_df\u001b[0m\u001b[0;34m[\u001b[0m\u001b[0;34m'mef'\u001b[0m\u001b[0;34m]\u001b[0m\u001b[0;34m)\u001b[0m\u001b[0;34m\u001b[0m\u001b[0;34m\u001b[0m\u001b[0m\n\u001b[0m\u001b[1;32m     40\u001b[0m     \u001b[0my_i\u001b[0m \u001b[0;34m=\u001b[0m \u001b[0mius\u001b[0m\u001b[0;34m(\u001b[0m\u001b[0mx_i\u001b[0m\u001b[0;34m)\u001b[0m\u001b[0;34m\u001b[0m\u001b[0;34m\u001b[0m\u001b[0m\n\u001b[1;32m     41\u001b[0m \u001b[0;34m\u001b[0m\u001b[0m\n",
      "\u001b[0;32m/usr/local/lib/python3.7/site-packages/scipy/interpolate/fitpack2.py\u001b[0m in \u001b[0;36m__init__\u001b[0;34m(self, x, y, w, bbox, k, ext, check_finite)\u001b[0m\n\u001b[1;32m    658\u001b[0m \u001b[0;34m\u001b[0m\u001b[0m\n\u001b[1;32m    659\u001b[0m         x, y, w, bbox, self.ext = self.validate_input(x, y, w, bbox, k, None,\n\u001b[0;32m--> 660\u001b[0;31m                                             ext, check_finite)\n\u001b[0m\u001b[1;32m    661\u001b[0m         \u001b[0;32mif\u001b[0m \u001b[0;32mnot\u001b[0m \u001b[0mnp\u001b[0m\u001b[0;34m.\u001b[0m\u001b[0mall\u001b[0m\u001b[0;34m(\u001b[0m\u001b[0mdiff\u001b[0m\u001b[0;34m(\u001b[0m\u001b[0mx\u001b[0m\u001b[0;34m)\u001b[0m \u001b[0;34m>\u001b[0m \u001b[0;36m0.0\u001b[0m\u001b[0;34m)\u001b[0m\u001b[0;34m:\u001b[0m\u001b[0;34m\u001b[0m\u001b[0;34m\u001b[0m\u001b[0m\n\u001b[1;32m    662\u001b[0m             \u001b[0;32mraise\u001b[0m \u001b[0mValueError\u001b[0m\u001b[0;34m(\u001b[0m\u001b[0;34m'x must be strictly increasing'\u001b[0m\u001b[0;34m)\u001b[0m\u001b[0;34m\u001b[0m\u001b[0;34m\u001b[0m\u001b[0m\n",
      "\u001b[0;32m/usr/local/lib/python3.7/site-packages/scipy/interpolate/fitpack2.py\u001b[0m in \u001b[0;36mvalidate_input\u001b[0;34m(x, y, w, bbox, k, s, ext, check_finite)\u001b[0m\n\u001b[1;32m    221\u001b[0m         \u001b[0;32mif\u001b[0m \u001b[0ms\u001b[0m \u001b[0;32mis\u001b[0m \u001b[0;32mNone\u001b[0m \u001b[0;32mor\u001b[0m \u001b[0ms\u001b[0m \u001b[0;34m>\u001b[0m \u001b[0;36m0\u001b[0m\u001b[0;34m:\u001b[0m\u001b[0;34m\u001b[0m\u001b[0;34m\u001b[0m\u001b[0m\n\u001b[1;32m    222\u001b[0m             \u001b[0;32mif\u001b[0m \u001b[0;32mnot\u001b[0m \u001b[0mnp\u001b[0m\u001b[0;34m.\u001b[0m\u001b[0mall\u001b[0m\u001b[0;34m(\u001b[0m\u001b[0mdiff\u001b[0m\u001b[0;34m(\u001b[0m\u001b[0mx\u001b[0m\u001b[0;34m)\u001b[0m \u001b[0;34m>=\u001b[0m \u001b[0;36m0.0\u001b[0m\u001b[0;34m)\u001b[0m\u001b[0;34m:\u001b[0m\u001b[0;34m\u001b[0m\u001b[0;34m\u001b[0m\u001b[0m\n\u001b[0;32m--> 223\u001b[0;31m                 \u001b[0;32mraise\u001b[0m \u001b[0mValueError\u001b[0m\u001b[0;34m(\u001b[0m\u001b[0;34m\"x must be increasing if s > 0\"\u001b[0m\u001b[0;34m)\u001b[0m\u001b[0;34m\u001b[0m\u001b[0;34m\u001b[0m\u001b[0m\n\u001b[0m\u001b[1;32m    224\u001b[0m         \u001b[0;32melse\u001b[0m\u001b[0;34m:\u001b[0m\u001b[0;34m\u001b[0m\u001b[0;34m\u001b[0m\u001b[0m\n\u001b[1;32m    225\u001b[0m             \u001b[0;32mif\u001b[0m \u001b[0;32mnot\u001b[0m \u001b[0mnp\u001b[0m\u001b[0;34m.\u001b[0m\u001b[0mall\u001b[0m\u001b[0;34m(\u001b[0m\u001b[0mdiff\u001b[0m\u001b[0;34m(\u001b[0m\u001b[0mx\u001b[0m\u001b[0;34m)\u001b[0m \u001b[0;34m>\u001b[0m \u001b[0;36m0.0\u001b[0m\u001b[0;34m)\u001b[0m\u001b[0;34m:\u001b[0m\u001b[0;34m\u001b[0m\u001b[0;34m\u001b[0m\u001b[0m\n",
      "\u001b[0;31mValueError\u001b[0m: x must be increasing if s > 0"
     ]
    }
   ],
   "source": [
    "import os\n",
    "import pandas as pd\n",
    "import numpy as np\n",
    "\n",
    "\n",
    "FORECAST_RESULTS = 'mef_forecast_results.csv'\n",
    "\n",
    "DATE_COL = 'date'\n",
    "\n",
    "\n",
    "def main():\n",
    "    forecast_results = pd.read_csv(FORECAST_RESULTS, usecols=[1,4])\n",
    "    print(forecast_results.columns)\n",
    "    forecast_results['date'] = pd.to_datetime(forecast_results['date'])\n",
    "    forecast_results['time'] = forecast_results['date'].dt.strftime('%H:%M')\n",
    "    forecast_results['time'] = pd.to_datetime(forecast_results['time']).dt.hour\n",
    "    forecast_results['date'] = forecast_results['date'].dt.strftime('%m/%d/%Y')\n",
    "    forecast_results.columns = ['date', 'mef', 'time']\n",
    "    forecast_results = forecast_results[['date', 'time', 'mef']]\n",
    "    \n",
    "    # Temporary: Format data for day 1 — 09/01/2017\n",
    "    \n",
    "    print(forecast_results.iloc[:24])\n",
    "    day_one_df = forecast_results.iloc[:25]\n",
    "    from scipy.interpolate import Rbf, InterpolatedUnivariateSpline\n",
    "    # TODO: Polynomial fit (look into scipy library docs)\n",
    "\n",
    "    x_i = np.linspace(0, 23, num=41, endpoint=True)\n",
    "    ius = InterpolatedUnivariateSpline(day_one_df['time'], day_one_df['mef'])\n",
    "    y_i = ius(x_i)\n",
    "\n",
    "    # TODO: Plot power demand vs. MEF\n",
    "    plt.plot(day_one_df['hour'], day_one_df['mef'], 'o')\n",
    "    plt.plot(x_i, y_i, 'r')\n",
    "    plt.show()\n",
    "\n",
    "def _get_forecast_by_day(date):\n",
    "    pass\n",
    "\n",
    "if __name__=='__main__':\n",
    "    main()"
   ]
  },
  {
   "cell_type": "code",
   "execution_count": null,
   "metadata": {},
   "outputs": [],
   "source": []
  }
 ],
 "metadata": {
  "kernelspec": {
   "display_name": "Python 3",
   "language": "python",
   "name": "python3"
  },
  "language_info": {
   "codemirror_mode": {
    "name": "ipython",
    "version": 3
   },
   "file_extension": ".py",
   "mimetype": "text/x-python",
   "name": "python",
   "nbconvert_exporter": "python",
   "pygments_lexer": "ipython3",
   "version": "3.7.6"
  }
 },
 "nbformat": 4,
 "nbformat_minor": 2
}
